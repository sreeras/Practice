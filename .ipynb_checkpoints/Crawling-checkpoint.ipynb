{
 "cells": [
  {
   "cell_type": "code",
   "execution_count": 8,
   "metadata": {
    "collapsed": false
   },
   "outputs": [],
   "source": [
    "page = \"\"\"\t\t<header id=\"logobar\">\n",
    "\t\t\t<div id=\"top-actions\">\n",
    "\t\t\t\t<a href=\"http://qualnet.qualcomm.com\" target=\"_blank\">Qualnet</a>\n",
    "\t\t\t\t<a href=\"http://people.qualcomm.com/People\" target=\"_blank\">People</a>\n",
    "\t\t\t\t<a href=\"http://community.qualcomm.com\" target=\"_blank\">Community</a>\n",
    "\t\t\t\t<a href=\"http://community.qualcomm.com/groups/qwiki-support\" target=\"_blank\">Support</a>\n",
    "\t\t\t</div>\n",
    "\t\t\t<div class=\"qualcomm-logo\">Qualcomm</div>\n",
    "\t\t</header>\"\"\"\n",
    "\n"
   ]
  },
  {
   "cell_type": "code",
   "execution_count": 36,
   "metadata": {
    "collapsed": false
   },
   "outputs": [
    {
     "name": "stdout",
     "output_type": "stream",
     "text": [
      "63 90\n",
      "http://qualnet.qualcomm.com\n"
     ]
    }
   ],
   "source": [
    "start_link = page.find(\"<a href=\")\n",
    "start_quote = page.find('\"', start_link)\n",
    "end_quote = page.find('\"', start_quote+1)\n",
    "print(start_quote+1, end_quote)\n",
    "print(page[start_quote+1:end_quote])\n"
   ]
  },
  {
   "cell_type": "code",
   "execution_count": 37,
   "metadata": {
    "collapsed": false
   },
   "outputs": [
    {
     "data": {
      "text/plain": [
       "'<'"
      ]
     },
     "execution_count": 37,
     "metadata": {},
     "output_type": "execute_result"
    }
   ],
   "source": [
    "page[273]"
   ]
  },
  {
   "cell_type": "code",
   "execution_count": 122,
   "metadata": {
    "collapsed": false
   },
   "outputs": [
    {
     "data": {
      "text/plain": [
       "'\\t\\t<header id=\"logobar\">\\n\\t\\t\\t<div id=\"top-actions\">\\n\\t\\t\\t\\t<a href=\"http://qualnet.qualcomm.com\" target=\"_blank\">Qualnet</a>\\n\\t\\t\\t\\t<a href=\"http://people.qualcomm.com/People\" target=\"_blank\">People</a>\\n\\t\\t\\t\\t<a href=\"http://community.qualcomm.com\" target=\"_blank\">Community</a>\\n\\t\\t\\t\\t<a href=\"http://community.qualcomm.com/groups/qwiki-support\" target=\"_blank\">Support</a>'"
      ]
     },
     "execution_count": 122,
     "metadata": {},
     "output_type": "execute_result"
    }
   ],
   "source": [
    "import re\n",
    "a = re.compile(\"^\\D+(href).*\")\n",
    "s = a.match(page)\n",
    "s.group(0)"
   ]
  },
  {
   "cell_type": "code",
   "execution_count": 120,
   "metadata": {
    "collapsed": false
   },
   "outputs": [
    {
     "ename": "AttributeError",
     "evalue": "'NoneType' object has no attribute 'group'",
     "output_type": "error",
     "traceback": [
      "\u001b[0;31m---------------------------------------------------------------------------\u001b[0m",
      "\u001b[0;31mAttributeError\u001b[0m                            Traceback (most recent call last)",
      "\u001b[0;32m<ipython-input-120-b86d5ce7eed2>\u001b[0m in \u001b[0;36m<module>\u001b[0;34m()\u001b[0m\n\u001b[0;32m----> 1\u001b[0;31m \u001b[0ms\u001b[0m\u001b[1;33m.\u001b[0m\u001b[0mgroup\u001b[0m\u001b[1;33m(\u001b[0m\u001b[1;36m0\u001b[0m\u001b[1;33m)\u001b[0m\u001b[1;33m\u001b[0m\u001b[0m\n\u001b[0m",
      "\u001b[0;31mAttributeError\u001b[0m: 'NoneType' object has no attribute 'group'"
     ]
    }
   ],
   "source": [
    "s.group(0)"
   ]
  },
  {
   "cell_type": "code",
   "execution_count": null,
   "metadata": {
    "collapsed": true
   },
   "outputs": [],
   "source": []
  },
  {
   "cell_type": "code",
   "execution_count": null,
   "metadata": {
    "collapsed": true
   },
   "outputs": [],
   "source": []
  }
 ],
 "metadata": {
  "kernelspec": {
   "display_name": "Python 3",
   "language": "python",
   "name": "python3"
  },
  "language_info": {
   "codemirror_mode": {
    "name": "ipython",
    "version": 3
   },
   "file_extension": ".py",
   "mimetype": "text/x-python",
   "name": "python",
   "nbconvert_exporter": "python",
   "pygments_lexer": "ipython3",
   "version": "3.6.0"
  }
 },
 "nbformat": 4,
 "nbformat_minor": 2
}
