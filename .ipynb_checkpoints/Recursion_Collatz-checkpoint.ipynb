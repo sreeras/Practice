{
 "cells": [
  {
   "cell_type": "markdown",
   "metadata": {},
   "source": [
    "## Collatz Sequence\n",
    "\n",
    "Given a positive integer n, the task is to find whether this number reaches to 1 after performing following two operations:-\n",
    "\n",
    "If n is even, then n = n/2.\n",
    "If n is odd, then n = 3*n + 1.\n",
    "Repeat above steps, until it becomes 1.\n",
    "For example, for n = 12, we get the sequence 12, 6, 3, 10, 5, 16, 8, 4, 2, 1.\n",
    "\n",
    "Examples:\n",
    "\n",
    "Input : n = 4\n",
    "Output : Yes\n",
    "\n",
    "Input : n = 5\n",
    "Output : Yes\n",
    "\n"
   ]
  },
  {
   "cell_type": "code",
   "execution_count": 15,
   "metadata": {
    "collapsed": false
   },
   "outputs": [
    {
     "name": "stdout",
     "output_type": "stream",
     "text": [
      "No\n"
     ]
    }
   ],
   "source": [
    "def collatz(n,valueOfn = 0, root=True):\n",
    "\n",
    "    if n == 1:\n",
    "        print (\"Yes\")\n",
    "        return\n",
    "        \n",
    "    if valueOfn == n or n < 1:\n",
    "        print (\"No\")\n",
    "        return\n",
    "    \n",
    "    if root:\n",
    "        valueOfN = n\n",
    "        \n",
    "    if n % 2 == 0:\n",
    "        n = n//2\n",
    "    else:\n",
    "        n = 3*n+1\n",
    "        \n",
    "    collatz(n, valueOfn, False)\n",
    "        \n",
    "\n",
    "collatz(-1)\n"
   ]
  },
  {
   "cell_type": "code",
   "execution_count": 16,
   "metadata": {
    "collapsed": false
   },
   "outputs": [
    {
     "name": "stdout",
     "output_type": "stream",
     "text": [
      "Yes\n"
     ]
    }
   ],
   "source": [
    "collatz(1)"
   ]
  },
  {
   "cell_type": "code",
   "execution_count": 17,
   "metadata": {
    "collapsed": false
   },
   "outputs": [
    {
     "data": {
      "text/plain": [
       "True"
      ]
     },
     "execution_count": 17,
     "metadata": {},
     "output_type": "execute_result"
    }
   ],
   "source": [
    "def collatz2(n):\n",
    "    return n > 0\n",
    "    \n",
    "\n",
    "collatz2(1)\n"
   ]
  },
  {
   "cell_type": "code",
   "execution_count": 18,
   "metadata": {
    "collapsed": false
   },
   "outputs": [
    {
     "data": {
      "text/plain": [
       "False"
      ]
     },
     "execution_count": 18,
     "metadata": {},
     "output_type": "execute_result"
    }
   ],
   "source": [
    "collatz2(-1)"
   ]
  },
  {
   "cell_type": "code",
   "execution_count": null,
   "metadata": {
    "collapsed": true
   },
   "outputs": [],
   "source": []
  },
  {
   "cell_type": "code",
   "execution_count": null,
   "metadata": {
    "collapsed": true
   },
   "outputs": [],
   "source": []
  }
 ],
 "metadata": {
  "kernelspec": {
   "display_name": "Python 3",
   "language": "python",
   "name": "python3"
  },
  "language_info": {
   "codemirror_mode": {
    "name": "ipython",
    "version": 3
   },
   "file_extension": ".py",
   "mimetype": "text/x-python",
   "name": "python",
   "nbconvert_exporter": "python",
   "pygments_lexer": "ipython3",
   "version": "3.6.0"
  }
 },
 "nbformat": 4,
 "nbformat_minor": 2
}
