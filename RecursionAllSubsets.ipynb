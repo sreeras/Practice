{
 "cells": [
  {
   "cell_type": "markdown",
   "metadata": {},
   "source": [
    "# All subsets of a set\n",
    "\n",
    " a,b,c,d\n",
    " all subsets of this set\n",
    "  f(A, i) =  a + F(A, i+1) \n",
    "               F(A,i+1)\n",
    "   \n",
    "  [a,b,c,d],0 =     \n",
    "                  list =  a + [a,b,c,d],1   \n",
    "                      =  [a,b,c,d],1\n",
    " combinations = 2 power n subsets\n",
    " a, b, c, d, ab, ac, ad, bc, cb, cd, abc, abd, bcd, abcd\n",
    "\n",
    "\n"
   ]
  },
  {
   "cell_type": "code",
   "execution_count": 1,
   "metadata": {
    "collapsed": false
   },
   "outputs": [],
   "source": [
    "def allSubsets(A):\n",
    "    \n",
    "    retList = []\n",
    "    allSubsetsRec(A, retList)\n",
    "    return retList\n",
    "\n",
    "def allSubsetsRec(A, retList=[], accum=\"\"):\n",
    "    \n",
    "    if not A:\n",
    "        return\n",
    "\n",
    "    for i in range(len(A)):\n",
    "        curr = accum + A[i]\n",
    "        retList.append(curr)\n",
    "        allSubsetsRec(A[:i]+A[i+1:], retList, curr)\n",
    "    \n",
    "    \n",
    "    "
   ]
  },
  {
   "cell_type": "markdown",
   "metadata": {},
   "source": [
    "[a, b, c]\n",
    "\n",
    "\n",
    "i = 0\n",
    "A[i] = a\n",
    "accum = \"\"\n",
    "curr = a\n",
    "allSubsets([b,c], a, retList = [a])\n",
    "    \n",
    "    i =0\n",
    "    A[i] = b\n",
    "    accum = a\n",
    "    curr = ab\n",
    "    allSubsets([c], ab, retList = [a,ab])\n",
    "    \n",
    "            i =0\n",
    "            A[i] = c\n",
    "            accum = ab\n",
    "            curr = abc\n",
    "            allSubsets([], abc, retList = [a,ab, abc])\n",
    "            return\n",
    "    \n",
    "    i =1\n",
    "    A[i] = c\n",
    "    accum = a\n",
    "    curr = ac\n",
    "    allSubsets([b], ac, retList = [a,ab, abc])\n",
    "    \n",
    "            i =0\n",
    "            A[i] = b\n",
    "            accum = ac\n",
    "            curr = acb\n",
    "            allSubsets([], acb, retList = [a,ab, abc, acb])\n",
    "            return\n"
   ]
  },
  {
   "cell_type": "code",
   "execution_count": 2,
   "metadata": {
    "collapsed": false,
    "scrolled": true
   },
   "outputs": [
    {
     "name": "stdout",
     "output_type": "stream",
     "text": [
      "['a', 'ab', 'abc', 'abcd', 'abd', 'abdc', 'ac', 'acb', 'acbd', 'acd', 'acdb', 'ad', 'adb', 'adbc', 'adc', 'adcb', 'b', 'ba', 'bac', 'bacd', 'bad', 'badc', 'bc', 'bca', 'bcad', 'bcd', 'bcda', 'bd', 'bda', 'bdac', 'bdc', 'bdca', 'c', 'ca', 'cab', 'cabd', 'cad', 'cadb', 'cb', 'cba', 'cbad', 'cbd', 'cbda', 'cd', 'cda', 'cdab', 'cdb', 'cdba', 'd', 'da', 'dab', 'dabc', 'dac', 'dacb', 'db', 'dba', 'dbac', 'dbc', 'dbca', 'dc', 'dca', 'dcab', 'dcb', 'dcba']\n"
     ]
    }
   ],
   "source": [
    "A = ['a','b','c','d']\n",
    "\n",
    "print(allSubsets(A))"
   ]
  },
  {
   "cell_type": "code",
   "execution_count": 3,
   "metadata": {
    "collapsed": false
   },
   "outputs": [
    {
     "data": {
      "text/plain": [
       "64"
      ]
     },
     "execution_count": 3,
     "metadata": {},
     "output_type": "execute_result"
    }
   ],
   "source": [
    "len(set(allSubsets(A)))"
   ]
  },
  {
   "cell_type": "code",
   "execution_count": 4,
   "metadata": {
    "collapsed": false
   },
   "outputs": [
    {
     "name": "stdout",
     "output_type": "stream",
     "text": [
      "64\n"
     ]
    }
   ],
   "source": [
    "print(len(allSubsets(A)))"
   ]
  },
  {
   "cell_type": "code",
   "execution_count": 5,
   "metadata": {
    "collapsed": true
   },
   "outputs": [],
   "source": [
    "A = ['a','b','c']"
   ]
  },
  {
   "cell_type": "code",
   "execution_count": 6,
   "metadata": {
    "collapsed": false
   },
   "outputs": [
    {
     "name": "stdout",
     "output_type": "stream",
     "text": [
      "['a', 'ab', 'abc', 'ac', 'acb', 'b', 'ba', 'bac', 'bc', 'bca', 'c', 'ca', 'cab', 'cb', 'cba']\n"
     ]
    }
   ],
   "source": [
    "print(allSubsets(A))"
   ]
  },
  {
   "cell_type": "code",
   "execution_count": 7,
   "metadata": {
    "collapsed": false
   },
   "outputs": [
    {
     "name": "stdout",
     "output_type": "stream",
     "text": [
      "15\n"
     ]
    }
   ],
   "source": [
    "print(len(allSubsets(A)))"
   ]
  },
  {
   "cell_type": "code",
   "execution_count": 8,
   "metadata": {
    "collapsed": true
   },
   "outputs": [],
   "source": [
    "A = ['a']"
   ]
  },
  {
   "cell_type": "code",
   "execution_count": 9,
   "metadata": {
    "collapsed": false
   },
   "outputs": [
    {
     "name": "stdout",
     "output_type": "stream",
     "text": [
      "['a']\n"
     ]
    }
   ],
   "source": [
    "print(allSubsets(A))"
   ]
  },
  {
   "cell_type": "code",
   "execution_count": 10,
   "metadata": {
    "collapsed": true
   },
   "outputs": [],
   "source": [
    "A = []"
   ]
  },
  {
   "cell_type": "code",
   "execution_count": 11,
   "metadata": {
    "collapsed": false
   },
   "outputs": [
    {
     "name": "stdout",
     "output_type": "stream",
     "text": [
      "[]\n"
     ]
    }
   ],
   "source": [
    "print(allSubsets(A))"
   ]
  },
  {
   "cell_type": "code",
   "execution_count": null,
   "metadata": {
    "collapsed": true
   },
   "outputs": [],
   "source": []
  }
 ],
 "metadata": {
  "kernelspec": {
   "display_name": "Python 3",
   "language": "python",
   "name": "python3"
  },
  "language_info": {
   "codemirror_mode": {
    "name": "ipython",
    "version": 3
   },
   "file_extension": ".py",
   "mimetype": "text/x-python",
   "name": "python",
   "nbconvert_exporter": "python",
   "pygments_lexer": "ipython3",
   "version": "3.6.0"
  }
 },
 "nbformat": 4,
 "nbformat_minor": 2
}
