{
 "cells": [
  {
   "cell_type": "markdown",
   "metadata": {},
   "source": [
    "## Minimum steps to reach a destination\n",
    "\n",
    "Given a number line from -infinity to +infinity. You start at 0 and can go either to the left or to the right. The condition is that in i’th move, you take i steps.\n",
    "a) Find if you can reach a given number x\n",
    "\n",
    "\n",
    "http://www.geeksforgeeks.org/minimum-steps-to-reach-a-destination/"
   ]
  },
  {
   "cell_type": "code",
   "execution_count": 2,
   "metadata": {
    "collapsed": true
   },
   "outputs": [],
   "source": [
    "def findx(x, start=1, i=1):\n",
    "    if abs(x) == 0 or abs(x) == 1:\n",
    "        return True\n",
    "    \n",
    "    if abs(x) == abs(start):\n",
    "        return True\n",
    "\n",
    "    if abs(x) < abs(start):\n",
    "        return False\n",
    "    \n",
    "    return findx(x, start+i, i+1) or findx(x, start-i, i+1)\n",
    "\n"
   ]
  },
  {
   "cell_type": "code",
   "execution_count": 18,
   "metadata": {
    "collapsed": false
   },
   "outputs": [],
   "source": [
    "for i in range(10000):\n",
    "    if not findx(i):\n",
    "        print (i)"
   ]
  },
  {
   "cell_type": "code",
   "execution_count": 27,
   "metadata": {
    "collapsed": false
   },
   "outputs": [],
   "source": [
    "def findx(x, start=0, i=0):\n",
    "    if abs(x) == 0:\n",
    "        return i\n",
    "    \n",
    "    if abs(x) == 1:\n",
    "        return i\n",
    "    \n",
    "    if abs(x) == abs(start):\n",
    "        return i\n",
    "\n",
    "    if abs(x) < abs(start):\n",
    "        return False\n",
    "    \n",
    "    return findx(x, start+i, i+1) or findx(x, start-i, i+1)\n"
   ]
  },
  {
   "cell_type": "code",
   "execution_count": 28,
   "metadata": {
    "collapsed": false
   },
   "outputs": [
    {
     "data": {
      "text/plain": [
       "4"
      ]
     },
     "execution_count": 28,
     "metadata": {},
     "output_type": "execute_result"
    }
   ],
   "source": [
    "findx(2)"
   ]
  },
  {
   "cell_type": "code",
   "execution_count": null,
   "metadata": {
    "collapsed": true
   },
   "outputs": [],
   "source": []
  }
 ],
 "metadata": {
  "kernelspec": {
   "display_name": "Python 3",
   "language": "python",
   "name": "python3"
  },
  "language_info": {
   "codemirror_mode": {
    "name": "ipython",
    "version": 3
   },
   "file_extension": ".py",
   "mimetype": "text/x-python",
   "name": "python",
   "nbconvert_exporter": "python",
   "pygments_lexer": "ipython3",
   "version": "3.6.0"
  }
 },
 "nbformat": 4,
 "nbformat_minor": 2
}
